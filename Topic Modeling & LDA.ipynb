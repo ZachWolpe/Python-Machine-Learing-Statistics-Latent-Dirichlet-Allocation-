{
 "cells": [
  {
   "cell_type": "markdown",
   "metadata": {},
   "source": [
    "# Topic Modeling and Latent Dirichlet Allocation (LDA) in Python\n",
    "\n",
    "Description:\n",
    "This algorthm categories over a million newspaper headlines using LDA\n",
    "\n",
    "###### link: https://towardsdatascience.com/topic-modeling-and-latent-dirichlet-allocation-in-python-9bf156893c24"
   ]
  },
  {
   "cell_type": "code",
   "execution_count": 2,
   "metadata": {},
   "outputs": [
    {
     "name": "stdout",
     "output_type": "stream",
     "text": [
      "21295\n",
      "(21295, 2)\n",
      "   publish_date                                      headline_text\n",
      "0      20030219  aba decides against community broadcasting lic...\n",
      "1      20030219     act fire witnesses must be aware of defamation\n",
      "2      20030219     a g calls for infrastructure protection summit\n",
      "3      20030219           air nz staff in aust strike for pay rise\n",
      "                                       headline_text  index\n",
      "0  aba decides against community broadcasting lic...      0\n",
      "1     act fire witnesses must be aware of defamation      1\n",
      "2     a g calls for infrastructure protection summit      2\n",
      "3           air nz staff in aust strike for pay rise      3\n",
      "4      air nz strike to affect australian travellers      4\n"
     ]
    }
   ],
   "source": [
    "import pandas as pd\n",
    "\n",
    "data = pd.read_csv('abcnews-date-text.csv', error_bad_lines=False);\n",
    "data_text = data[['headline_text']]\n",
    "data_text['index'] = data_text.index\n",
    "documents = data_text\n",
    "\n",
    "print(len(documents))\n",
    "print(documents.shape)\n",
    "print(data[:4])\n",
    "print(documents[:5])\n",
    "\n"
   ]
  },
  {
   "cell_type": "code",
   "execution_count": 5,
   "metadata": {},
   "outputs": [
    {
     "name": "stderr",
     "output_type": "stream",
     "text": [
      "[nltk_data] Downloading package wordnet to\n",
      "[nltk_data]     /Users/zachwolpe/nltk_data...\n",
      "[nltk_data]   Package wordnet is already up-to-date!\n",
      "[nltk_data] Downloading package wordnet to\n",
      "[nltk_data]     /Users/zachwolpe/nltk_data...\n",
      "[nltk_data]   Package wordnet is already up-to-date!\n"
     ]
    },
    {
     "data": {
      "text/plain": [
       "True"
      ]
     },
     "execution_count": 5,
     "metadata": {},
     "output_type": "execute_result"
    }
   ],
   "source": [
    "import gensim\n",
    "from gensim.utils import simple_preprocess\n",
    "from gensim.parsing.preprocessing import STOPWORDS\n",
    "from nltk.stem import WordNetLemmatizer, SnowballStemmer\n",
    "from nltk.stem.porter import *\n",
    "import numpy as np\n",
    "np.random.seed(2018)\n",
    "import nltk\n",
    "nltk.download('wordnet')\n",
    "\n",
    "\n",
    "import gensim\n",
    "from gensim.utils import simple_preprocess\n",
    "from gensim.parsing.preprocessing import STOPWORDS\n",
    "from nltk.stem import WordNetLemmatizer, SnowballStemmer\n",
    "from nltk.stem import *\n",
    "from nltk.stem.porter import *\n",
    "import numpy as np\n",
    "np.random.seed(2018)\n",
    "import nltk\n",
    "nltk.download('wordnet')"
   ]
  },
  {
   "cell_type": "code",
   "execution_count": 11,
   "metadata": {},
   "outputs": [],
   "source": [
    "def lemmatize_stemming(text):\n",
    "    return PorterStemmer().stem(WordNetLemmatizer().lemmatize(text, pos='v'))\n",
    "    # I used PorterStemmer() method as stemmer would through an error\n",
    "\n",
    "def preprocess(text):\n",
    "    result = []\n",
    "    for token in gensim.utils.simple_preprocess(text):\n",
    "        if token not in gensim.parsing.preprocessing.STOPWORDS and len(token) > 3:\n",
    "            result.append(lemmatize_stemming(token))\n",
    "    return result"
   ]
  },
  {
   "cell_type": "code",
   "execution_count": 18,
   "metadata": {
    "scrolled": false
   },
   "outputs": [
    {
     "name": "stdout",
     "output_type": "stream",
     "text": [
      "original document: \n",
      "['rain', 'helps', 'dampen', 'bushfires']\n",
      "\n",
      " tokenized and lemmatized document: \n",
      "['rain', 'help', 'dampen', 'bushfir']\n"
     ]
    }
   ],
   "source": [
    "doc_sample = documents[documents['index'] == 4310].values[0][0]\n",
    "print('original document: ')\n",
    "words = []\n",
    "for word in doc_sample.split(' '):\n",
    "    words.append(word)\n",
    "print(words)\n",
    "print('\\n\\n tokenized and lemmatized document: ')\n",
    "print(preprocess(doc_sample))"
   ]
  },
  {
   "cell_type": "code",
   "execution_count": 19,
   "metadata": {},
   "outputs": [
    {
     "data": {
      "text/plain": [
       "0               [decid, commun, broadcast, licenc]\n",
       "1                               [wit, awar, defam]\n",
       "2           [call, infrastructur, protect, summit]\n",
       "3                      [staff, aust, strike, rise]\n",
       "4             [strike, affect, australian, travel]\n",
       "5               [ambiti, olsson, win, tripl, jump]\n",
       "6           [antic, delight, record, break, barca]\n",
       "7    [aussi, qualifi, stosur, wast, memphi, match]\n",
       "8            [aust, address, secur, council, iraq]\n",
       "9                         [australia, lock, timet]\n",
       "Name: headline_text, dtype: object"
      ]
     },
     "execution_count": 19,
     "metadata": {},
     "output_type": "execute_result"
    }
   ],
   "source": [
    "processed_docs = documents['headline_text'].map(preprocess)\n",
    "processed_docs[:10]"
   ]
  },
  {
   "cell_type": "code",
   "execution_count": 20,
   "metadata": {},
   "outputs": [
    {
     "name": "stdout",
     "output_type": "stream",
     "text": [
      "0 broadcast\n",
      "1 commun\n",
      "2 decid\n",
      "3 licenc\n",
      "4 awar\n",
      "5 defam\n",
      "6 wit\n",
      "7 call\n",
      "8 infrastructur\n",
      "9 protect\n",
      "10 summit\n"
     ]
    }
   ],
   "source": [
    "dictionary = gensim.corpora.Dictionary(processed_docs)\n",
    "\n",
    "count = 0 \n",
    "for k,v in dictionary.iteritems():\n",
    "    print(k, v)\n",
    "    count += 1\n",
    "    if count > 10:\n",
    "        break"
   ]
  },
  {
   "cell_type": "code",
   "execution_count": 54,
   "metadata": {},
   "outputs": [],
   "source": [
    "dictionary.filter_extremes(no_below=15, no_above=0.5, keep_n=100000)"
   ]
  },
  {
   "cell_type": "markdown",
   "metadata": {},
   "source": [
    "## Gensim doc2bow"
   ]
  },
  {
   "cell_type": "code",
   "execution_count": 28,
   "metadata": {},
   "outputs": [
    {
     "data": {
      "text/plain": [
       "[(77, 1), (116, 1), (495, 1), (4452, 1)]"
      ]
     },
     "execution_count": 28,
     "metadata": {},
     "output_type": "execute_result"
    }
   ],
   "source": [
    "bow_corpus = [dictionary.doc2bow(doc) for doc in processed_docs]\n",
    "bow_corpus[4310]"
   ]
  },
  {
   "cell_type": "code",
   "execution_count": 29,
   "metadata": {},
   "outputs": [
    {
     "name": "stdout",
     "output_type": "stream",
     "text": [
      "word 77 (\"bushfir\") appears 1 times\n",
      "word 116 (\"help\") appears 1 times\n",
      "word 495 (\"rain\") appears 1 times\n",
      "word 4452 (\"dampen\") appears 1 times\n"
     ]
    }
   ],
   "source": [
    "bow_doc_4310 = bow_corpus[4310]\n",
    "\n",
    "for i in range(len(bow_doc_4310)):\n",
    "    print('word {} (\\\"{}\\\") appears {} times'.format(bow_doc_4310[i][0],\n",
    "         dictionary[bow_doc_4310[i][0]],\n",
    "         bow_doc_4310[i][1]))"
   ]
  },
  {
   "cell_type": "markdown",
   "metadata": {},
   "source": [
    "## TF-IDF"
   ]
  },
  {
   "cell_type": "code",
   "execution_count": 32,
   "metadata": {},
   "outputs": [
    {
     "name": "stdout",
     "output_type": "stream",
     "text": [
      "[(0, 0.5633762170099382), (1, 0.40292701761748095), (2, 0.4797511976087543), (3, 0.5386054631865693)]\n"
     ]
    }
   ],
   "source": [
    "from gensim import corpora, models\n",
    "\n",
    "tfidf = models.TfidfModel(bow_corpus)\n",
    "corpus_tfidf = tfidf[bow_corpus]\n",
    "\n",
    "for doc in corpus_tfidf:\n",
    "    print(doc)\n",
    "    break"
   ]
  },
  {
   "cell_type": "markdown",
   "metadata": {},
   "source": [
    "## Running LDA using Bag of Words"
   ]
  },
  {
   "cell_type": "code",
   "execution_count": 33,
   "metadata": {},
   "outputs": [],
   "source": [
    "lda_model = gensim.models.LdaMulticore(bow_corpus, num_topics=10, id2word=dictionary, passes=2, workers=2)"
   ]
  },
  {
   "cell_type": "code",
   "execution_count": 36,
   "metadata": {},
   "outputs": [
    {
     "name": "stdout",
     "output_type": "stream",
     "text": [
      "Topic: 0 \n",
      "Words: 0.011*\"plan\" + 0.010*\"chief\" + 0.009*\"iraq\" + 0.008*\"govt\" + 0.008*\"health\" + 0.007*\"secur\" + 0.007*\"call\" + 0.006*\"test\" + 0.005*\"sign\" + 0.005*\"push\" \n",
      "\n",
      "Topic: 1 \n",
      "Words: 0.014*\"polic\" + 0.014*\"plan\" + 0.013*\"govt\" + 0.009*\"baghdad\" + 0.007*\"warn\" + 0.007*\"support\" + 0.007*\"station\" + 0.006*\"aceh\" + 0.006*\"green\" + 0.006*\"shark\" \n",
      "\n",
      "Topic: 2 \n",
      "Words: 0.017*\"kill\" + 0.014*\"council\" + 0.009*\"group\" + 0.008*\"consid\" + 0.007*\"clear\" + 0.007*\"reject\" + 0.007*\"govt\" + 0.006*\"race\" + 0.006*\"law\" + 0.006*\"plan\" \n",
      "\n",
      "Topic: 3 \n",
      "Words: 0.031*\"polic\" + 0.015*\"investig\" + 0.014*\"charg\" + 0.013*\"arrest\" + 0.012*\"lead\" + 0.009*\"tour\" + 0.008*\"boost\" + 0.007*\"fatal\" + 0.007*\"accid\" + 0.006*\"fund\" \n",
      "\n",
      "Topic: 4 \n",
      "Words: 0.014*\"polic\" + 0.014*\"crash\" + 0.013*\"iraq\" + 0.011*\"bomb\" + 0.010*\"miss\" + 0.010*\"say\" + 0.009*\"iraqi\" + 0.008*\"govt\" + 0.007*\"search\" + 0.007*\"woe\" \n",
      "\n",
      "Topic: 5 \n",
      "Words: 0.013*\"water\" + 0.011*\"seek\" + 0.009*\"charg\" + 0.008*\"test\" + 0.008*\"death\" + 0.007*\"face\" + 0.006*\"hold\" + 0.006*\"appeal\" + 0.006*\"hill\" + 0.006*\"report\" \n",
      "\n",
      "Topic: 6 \n",
      "Words: 0.016*\"fund\" + 0.016*\"concern\" + 0.009*\"drought\" + 0.007*\"health\" + 0.007*\"secur\" + 0.007*\"road\" + 0.007*\"air\" + 0.006*\"expect\" + 0.006*\"nation\" + 0.006*\"round\" \n",
      "\n",
      "Topic: 7 \n",
      "Words: 0.010*\"rise\" + 0.010*\"claim\" + 0.009*\"aussi\" + 0.006*\"anzac\" + 0.006*\"close\" + 0.006*\"pakistan\" + 0.006*\"sar\" + 0.005*\"korea\" + 0.005*\"crew\" + 0.005*\"east\" \n",
      "\n",
      "Topic: 8 \n",
      "Words: 0.017*\"court\" + 0.012*\"face\" + 0.010*\"welcom\" + 0.010*\"work\" + 0.010*\"murder\" + 0.009*\"trial\" + 0.009*\"iraq\" + 0.009*\"polic\" + 0.008*\"hear\" + 0.007*\"probe\" \n",
      "\n",
      "Topic: 9 \n",
      "Words: 0.018*\"budget\" + 0.014*\"govt\" + 0.010*\"claim\" + 0.009*\"plan\" + 0.008*\"final\" + 0.007*\"public\" + 0.007*\"question\" + 0.006*\"sar\" + 0.006*\"ahead\" + 0.006*\"report\" \n",
      "\n"
     ]
    }
   ],
   "source": [
    "for idx, topic in lda_model.print_topics(-1):\n",
    "    print('Topic: {} \\nWords: {} \\n'.format(idx, topic))"
   ]
  },
  {
   "cell_type": "markdown",
   "metadata": {},
   "source": [
    "## Running LDA using TF-IDF"
   ]
  },
  {
   "cell_type": "code",
   "execution_count": 37,
   "metadata": {},
   "outputs": [
    {
     "name": "stdout",
     "output_type": "stream",
     "text": [
      "Topic: 0 \n",
      " Word: 0.008*\"crash\" + 0.008*\"plan\" + 0.007*\"iraqi\" + 0.006*\"fund\" + 0.006*\"feder\" + 0.006*\"report\" + 0.005*\"urg\" + 0.005*\"offer\" + 0.005*\"govt\" + 0.005*\"forc\" \n",
      "\n",
      "Topic: 1 \n",
      " Word: 0.011*\"court\" + 0.009*\"water\" + 0.008*\"troop\" + 0.007*\"kill\" + 0.006*\"injur\" + 0.005*\"raid\" + 0.005*\"claim\" + 0.005*\"face\" + 0.004*\"australian\" + 0.004*\"talk\" \n",
      "\n",
      "Topic: 2 \n",
      " Word: 0.011*\"kill\" + 0.010*\"face\" + 0.010*\"govt\" + 0.009*\"bomb\" + 0.006*\"court\" + 0.006*\"bali\" + 0.006*\"toll\" + 0.006*\"death\" + 0.006*\"iraq\" + 0.006*\"rise\" \n",
      "\n",
      "Topic: 3 \n",
      " Word: 0.009*\"charg\" + 0.007*\"lead\" + 0.007*\"green\" + 0.006*\"hop\" + 0.006*\"govt\" + 0.005*\"trade\" + 0.005*\"french\" + 0.005*\"hous\" + 0.005*\"say\" + 0.005*\"australia\" \n",
      "\n",
      "Topic: 4 \n",
      " Word: 0.016*\"plan\" + 0.010*\"protest\" + 0.007*\"report\" + 0.006*\"polic\" + 0.006*\"charg\" + 0.006*\"urg\" + 0.006*\"warn\" + 0.006*\"anti\" + 0.006*\"world\" + 0.005*\"miss\" \n",
      "\n",
      "Topic: 5 \n",
      " Word: 0.023*\"iraq\" + 0.011*\"sar\" + 0.010*\"say\" + 0.007*\"korea\" + 0.006*\"plan\" + 0.005*\"deni\" + 0.005*\"warn\" + 0.005*\"england\" + 0.005*\"road\" + 0.005*\"spark\" \n",
      "\n",
      "Topic: 6 \n",
      " Word: 0.017*\"council\" + 0.016*\"polic\" + 0.008*\"death\" + 0.007*\"urg\" + 0.006*\"govt\" + 0.006*\"boost\" + 0.005*\"murder\" + 0.005*\"probe\" + 0.005*\"continu\" + 0.004*\"claim\" \n",
      "\n",
      "Topic: 7 \n",
      " Word: 0.013*\"govt\" + 0.008*\"polic\" + 0.007*\"plan\" + 0.006*\"call\" + 0.006*\"support\" + 0.006*\"boost\" + 0.005*\"terror\" + 0.005*\"farmer\" + 0.005*\"aust\" + 0.005*\"review\" \n",
      "\n",
      "Topic: 8 \n",
      " Word: 0.014*\"fund\" + 0.012*\"polic\" + 0.010*\"iraq\" + 0.010*\"govt\" + 0.007*\"arrest\" + 0.006*\"report\" + 0.005*\"test\" + 0.005*\"charg\" + 0.005*\"record\" + 0.005*\"say\" \n",
      "\n",
      "Topic: 9 \n",
      " Word: 0.011*\"polic\" + 0.008*\"claim\" + 0.007*\"aceh\" + 0.007*\"govt\" + 0.005*\"return\" + 0.005*\"rule\" + 0.005*\"issu\" + 0.005*\"meet\" + 0.005*\"leagu\" + 0.004*\"final\" \n",
      "\n"
     ]
    }
   ],
   "source": [
    "lda_model_tfidf = gensim.models.LdaMulticore(bow_corpus, num_topics=10, id2word=dictionary, passes=2, workers=4)\n",
    "\n",
    "for idx, topic in lda_model_tfidf.print_topics(-1):\n",
    "    print('Topic: {} \\n Word: {} \\n'.format(idx, topic))"
   ]
  },
  {
   "cell_type": "markdown",
   "metadata": {},
   "source": [
    "## Performance evaluation by classifying sample document using LDA Bag of Words model\n"
   ]
  },
  {
   "cell_type": "code",
   "execution_count": 38,
   "metadata": {},
   "outputs": [
    {
     "data": {
      "text/plain": [
       "['rain', 'help', 'dampen', 'bushfir']"
      ]
     },
     "execution_count": 38,
     "metadata": {},
     "output_type": "execute_result"
    }
   ],
   "source": [
    "processed_docs[4310]"
   ]
  },
  {
   "cell_type": "code",
   "execution_count": 39,
   "metadata": {},
   "outputs": [
    {
     "name": "stdout",
     "output_type": "stream",
     "text": [
      "\n",
      "Score: 0.4272737503051758\t \n",
      "Topic: 0.014*\"polic\" + 0.014*\"plan\" + 0.013*\"govt\" + 0.009*\"baghdad\" + 0.007*\"warn\" + 0.007*\"support\" + 0.007*\"station\" + 0.006*\"aceh\" + 0.006*\"green\" + 0.006*\"shark\"\n",
      "\n",
      "Score: 0.4126927852630615\t \n",
      "Topic: 0.014*\"polic\" + 0.014*\"crash\" + 0.013*\"iraq\" + 0.011*\"bomb\" + 0.010*\"miss\" + 0.010*\"say\" + 0.009*\"iraqi\" + 0.008*\"govt\" + 0.007*\"search\" + 0.007*\"woe\"\n",
      "\n",
      "Score: 0.02001252956688404\t \n",
      "Topic: 0.017*\"court\" + 0.012*\"face\" + 0.010*\"welcom\" + 0.010*\"work\" + 0.010*\"murder\" + 0.009*\"trial\" + 0.009*\"iraq\" + 0.009*\"polic\" + 0.008*\"hear\" + 0.007*\"probe\"\n",
      "\n",
      "Score: 0.020007606595754623\t \n",
      "Topic: 0.017*\"kill\" + 0.014*\"council\" + 0.009*\"group\" + 0.008*\"consid\" + 0.007*\"clear\" + 0.007*\"reject\" + 0.007*\"govt\" + 0.006*\"race\" + 0.006*\"law\" + 0.006*\"plan\"\n",
      "\n",
      "Score: 0.02000485174357891\t \n",
      "Topic: 0.016*\"fund\" + 0.016*\"concern\" + 0.009*\"drought\" + 0.007*\"health\" + 0.007*\"secur\" + 0.007*\"road\" + 0.007*\"air\" + 0.006*\"expect\" + 0.006*\"nation\" + 0.006*\"round\"\n",
      "\n",
      "Score: 0.02000286988914013\t \n",
      "Topic: 0.013*\"water\" + 0.011*\"seek\" + 0.009*\"charg\" + 0.008*\"test\" + 0.008*\"death\" + 0.007*\"face\" + 0.006*\"hold\" + 0.006*\"appeal\" + 0.006*\"hill\" + 0.006*\"report\"\n",
      "\n",
      "Score: 0.020002732053399086\t \n",
      "Topic: 0.031*\"polic\" + 0.015*\"investig\" + 0.014*\"charg\" + 0.013*\"arrest\" + 0.012*\"lead\" + 0.009*\"tour\" + 0.008*\"boost\" + 0.007*\"fatal\" + 0.007*\"accid\" + 0.006*\"fund\"\n",
      "\n",
      "Score: 0.020001506432890892\t \n",
      "Topic: 0.010*\"rise\" + 0.010*\"claim\" + 0.009*\"aussi\" + 0.006*\"anzac\" + 0.006*\"close\" + 0.006*\"pakistan\" + 0.006*\"sar\" + 0.005*\"korea\" + 0.005*\"crew\" + 0.005*\"east\"\n",
      "\n",
      "Score: 0.02000100538134575\t \n",
      "Topic: 0.011*\"plan\" + 0.010*\"chief\" + 0.009*\"iraq\" + 0.008*\"govt\" + 0.008*\"health\" + 0.007*\"secur\" + 0.007*\"call\" + 0.006*\"test\" + 0.005*\"sign\" + 0.005*\"push\"\n",
      "\n",
      "Score: 0.02000042423605919\t \n",
      "Topic: 0.018*\"budget\" + 0.014*\"govt\" + 0.010*\"claim\" + 0.009*\"plan\" + 0.008*\"final\" + 0.007*\"public\" + 0.007*\"question\" + 0.006*\"sar\" + 0.006*\"ahead\" + 0.006*\"report\"\n"
     ]
    }
   ],
   "source": [
    "for index, score in sorted(lda_model[bow_corpus[4310]], key=lambda tup: -1*tup[1]):\n",
    "    print(\"\\nScore: {}\\t \\nTopic: {}\".format(score, lda_model.print_topic(index, 10)))"
   ]
  },
  {
   "cell_type": "markdown",
   "metadata": {},
   "source": [
    "## Performance evaluation by classifying sample document using LDA TF-IDF model."
   ]
  },
  {
   "cell_type": "code",
   "execution_count": 40,
   "metadata": {},
   "outputs": [
    {
     "name": "stdout",
     "output_type": "stream",
     "text": [
      "\n",
      "Score: 0.8199392557144165\t \n",
      "Topic: 0.023*\"iraq\" + 0.011*\"sar\" + 0.010*\"say\" + 0.007*\"korea\" + 0.006*\"plan\" + 0.005*\"deni\" + 0.005*\"warn\" + 0.005*\"england\" + 0.005*\"road\" + 0.005*\"spark\"\n",
      "\n",
      "Score: 0.020011579617857933\t \n",
      "Topic: 0.008*\"crash\" + 0.008*\"plan\" + 0.007*\"iraqi\" + 0.006*\"fund\" + 0.006*\"feder\" + 0.006*\"report\" + 0.005*\"urg\" + 0.005*\"offer\" + 0.005*\"govt\" + 0.005*\"forc\"\n",
      "\n",
      "Score: 0.0200111735612154\t \n",
      "Topic: 0.011*\"kill\" + 0.010*\"face\" + 0.010*\"govt\" + 0.009*\"bomb\" + 0.006*\"court\" + 0.006*\"bali\" + 0.006*\"toll\" + 0.006*\"death\" + 0.006*\"iraq\" + 0.006*\"rise\"\n",
      "\n",
      "Score: 0.02000897005200386\t \n",
      "Topic: 0.017*\"council\" + 0.016*\"polic\" + 0.008*\"death\" + 0.007*\"urg\" + 0.006*\"govt\" + 0.006*\"boost\" + 0.005*\"murder\" + 0.005*\"probe\" + 0.005*\"continu\" + 0.004*\"claim\"\n",
      "\n",
      "Score: 0.020007913932204247\t \n",
      "Topic: 0.016*\"plan\" + 0.010*\"protest\" + 0.007*\"report\" + 0.006*\"polic\" + 0.006*\"charg\" + 0.006*\"urg\" + 0.006*\"warn\" + 0.006*\"anti\" + 0.006*\"world\" + 0.005*\"miss\"\n",
      "\n",
      "Score: 0.02000642567873001\t \n",
      "Topic: 0.009*\"charg\" + 0.007*\"lead\" + 0.007*\"green\" + 0.006*\"hop\" + 0.006*\"govt\" + 0.005*\"trade\" + 0.005*\"french\" + 0.005*\"hous\" + 0.005*\"say\" + 0.005*\"australia\"\n",
      "\n",
      "Score: 0.02000601403415203\t \n",
      "Topic: 0.013*\"govt\" + 0.008*\"polic\" + 0.007*\"plan\" + 0.006*\"call\" + 0.006*\"support\" + 0.006*\"boost\" + 0.005*\"terror\" + 0.005*\"farmer\" + 0.005*\"aust\" + 0.005*\"review\"\n",
      "\n",
      "Score: 0.020003609359264374\t \n",
      "Topic: 0.011*\"court\" + 0.009*\"water\" + 0.008*\"troop\" + 0.007*\"kill\" + 0.006*\"injur\" + 0.005*\"raid\" + 0.005*\"claim\" + 0.005*\"face\" + 0.004*\"australian\" + 0.004*\"talk\"\n",
      "\n",
      "Score: 0.020002692937850952\t \n",
      "Topic: 0.014*\"fund\" + 0.012*\"polic\" + 0.010*\"iraq\" + 0.010*\"govt\" + 0.007*\"arrest\" + 0.006*\"report\" + 0.005*\"test\" + 0.005*\"charg\" + 0.005*\"record\" + 0.005*\"say\"\n",
      "\n",
      "Score: 0.02000242844223976\t \n",
      "Topic: 0.011*\"polic\" + 0.008*\"claim\" + 0.007*\"aceh\" + 0.007*\"govt\" + 0.005*\"return\" + 0.005*\"rule\" + 0.005*\"issu\" + 0.005*\"meet\" + 0.005*\"leagu\" + 0.004*\"final\"\n"
     ]
    }
   ],
   "source": [
    "for index, score in sorted(lda_model_tfidf[bow_corpus[4310]], key=lambda tup: -1*tup[1]):\n",
    "    print(\"\\nScore: {}\\t \\nTopic: {}\".format(score, lda_model_tfidf.print_topic(index, 10)))"
   ]
  },
  {
   "cell_type": "markdown",
   "metadata": {},
   "source": [
    "## Testing model on unseen document"
   ]
  },
  {
   "cell_type": "code",
   "execution_count": 41,
   "metadata": {},
   "outputs": [
    {
     "name": "stdout",
     "output_type": "stream",
     "text": [
      "Score: 0.3983001410961151\t Topic: 0.017*\"court\" + 0.012*\"face\" + 0.010*\"welcom\" + 0.010*\"work\" + 0.010*\"murder\"\n",
      "Score: 0.26674753427505493\t Topic: 0.014*\"polic\" + 0.014*\"plan\" + 0.013*\"govt\" + 0.009*\"baghdad\" + 0.007*\"warn\"\n",
      "Score: 0.19493356347084045\t Topic: 0.014*\"polic\" + 0.014*\"crash\" + 0.013*\"iraq\" + 0.011*\"bomb\" + 0.010*\"miss\"\n",
      "Score: 0.020007330924272537\t Topic: 0.013*\"water\" + 0.011*\"seek\" + 0.009*\"charg\" + 0.008*\"test\" + 0.008*\"death\"\n",
      "Score: 0.020005548372864723\t Topic: 0.011*\"plan\" + 0.010*\"chief\" + 0.009*\"iraq\" + 0.008*\"govt\" + 0.008*\"health\"\n",
      "Score: 0.020003486424684525\t Topic: 0.016*\"fund\" + 0.016*\"concern\" + 0.009*\"drought\" + 0.007*\"health\" + 0.007*\"secur\"\n",
      "Score: 0.020000910386443138\t Topic: 0.018*\"budget\" + 0.014*\"govt\" + 0.010*\"claim\" + 0.009*\"plan\" + 0.008*\"final\"\n",
      "Score: 0.020000571385025978\t Topic: 0.017*\"kill\" + 0.014*\"council\" + 0.009*\"group\" + 0.008*\"consid\" + 0.007*\"clear\"\n",
      "Score: 0.020000552758574486\t Topic: 0.010*\"rise\" + 0.010*\"claim\" + 0.009*\"aussi\" + 0.006*\"anzac\" + 0.006*\"close\"\n",
      "Score: 0.020000331103801727\t Topic: 0.031*\"polic\" + 0.015*\"investig\" + 0.014*\"charg\" + 0.013*\"arrest\" + 0.012*\"lead\"\n"
     ]
    }
   ],
   "source": [
    "unseen_document = 'How a Pentagon deal became an identity crisis for Google'\n",
    "\n",
    "bow_vector = dictionary.doc2bow(preprocess(unseen_document))\n",
    "for index, score in sorted(lda_model[bow_vector], key=lambda tup: -1*tup[1]):\n",
    "    print(\"Score: {}\\t Topic: {}\".format(score, lda_model.print_topic(index, 5)))"
   ]
  },
  {
   "cell_type": "code",
   "execution_count": null,
   "metadata": {},
   "outputs": [],
   "source": []
  }
 ],
 "metadata": {
  "kernelspec": {
   "display_name": "Python 3",
   "language": "python",
   "name": "python3"
  },
  "language_info": {
   "codemirror_mode": {
    "name": "ipython",
    "version": 3
   },
   "file_extension": ".py",
   "mimetype": "text/x-python",
   "name": "python",
   "nbconvert_exporter": "python",
   "pygments_lexer": "ipython3",
   "version": "3.7.1"
  }
 },
 "nbformat": 4,
 "nbformat_minor": 2
}
